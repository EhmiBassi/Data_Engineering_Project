{
 "cells": [
  {
   "cell_type": "markdown",
   "id": "7431c300",
   "metadata": {},
   "source": [
    "#### ASSIGNMENT TO BE CARRIED OUT FOR THE WEEK\n",
    "\n",
    "Dataset link - [mcq students dataset](https://docs.google.com/spreadsheets/d/1_swf5Hf_2lQQi9ctV6fViNp7g_lDxK6f/edit?usp=sharing&ouid=107285825850133704235&rtpof=true&sd=true)\n",
    "\n",
    "The data set is about students and all their activities carried out at school. It includes students demgraphics and academic factors that are used to study the factors that influence student's academic factors\n",
    "\n",
    "The description for all the columns are as below:\n",
    "* S/No: This is a serial number that is used to identify each student in the study.\n",
    "* Gender: This variable indicates the student's gender.\n",
    "* EthnicGroup: This variable indicates the student's ethnic group.\n",
    "* ParentEduc: This variable indicates the highest level of education attained by the student's parents.\n",
    "* LunchType: This variable indicates whether the student receives free or reduced-price lunch.\n",
    "* TestPrep: This variable indicates whether the student participated in test preparation courses.\n",
    "* ParentMaritalStatus: This variable indicates the marital status of the student's parents.\n",
    "* PracticeSport: This variable indicates whether the student participates in organized sports.\n",
    "* IsFirstChild: This variable indicates whether the student is the firstborn child in the family.\n",
    "* NrSiblings: This variable indicates the number of siblings the student has.\n",
    "* TransportMeans: This variable indicates how the student gets to school.\n",
    "* WklyStudyHours: This variable indicates the number of hours the student studies each week.\n",
    "* MathScore: This variable indicates the student's score on a math test.\n",
    "* ReadingScore: This variable indicates the student's score on a reading test.\n",
    "* WritingScore: This variable indicates the student's score on a writing test.\n",
    "\n"
   ]
  },
  {
   "cell_type": "code",
   "execution_count": 1,
   "id": "ecb845af",
   "metadata": {},
   "outputs": [],
   "source": [
    "# Read the dataset into the notebook"
   ]
  },
  {
   "cell_type": "code",
   "execution_count": 2,
   "id": "b819ac3b",
   "metadata": {},
   "outputs": [],
   "source": [
    "# Display the first few rows in the dataset"
   ]
  },
  {
   "cell_type": "code",
   "execution_count": 3,
   "id": "73133372",
   "metadata": {},
   "outputs": [],
   "source": [
    "# What are the data types of the variables"
   ]
  },
  {
   "cell_type": "code",
   "execution_count": 4,
   "id": "b1bbce39",
   "metadata": {},
   "outputs": [],
   "source": [
    "# How many null values are there in the dataset"
   ]
  },
  {
   "cell_type": "code",
   "execution_count": 5,
   "id": "450a226e",
   "metadata": {},
   "outputs": [],
   "source": [
    "# Select only columns that of int data type"
   ]
  },
  {
   "cell_type": "code",
   "execution_count": 6,
   "id": "598c1179",
   "metadata": {},
   "outputs": [],
   "source": [
    "# Display summary statistics of the dataset"
   ]
  },
  {
   "cell_type": "code",
   "execution_count": 7,
   "id": "81abe971",
   "metadata": {},
   "outputs": [],
   "source": [
    "# Display a list of all the column names"
   ]
  },
  {
   "cell_type": "code",
   "execution_count": 8,
   "id": "0726d17d",
   "metadata": {},
   "outputs": [],
   "source": [
    "# How many students are male and female"
   ]
  },
  {
   "cell_type": "code",
   "execution_count": 9,
   "id": "bff5b236",
   "metadata": {},
   "outputs": [],
   "source": [
    "# Display records for parents who are divorced"
   ]
  },
  {
   "cell_type": "code",
   "execution_count": 10,
   "id": "e2000ac1",
   "metadata": {},
   "outputs": [],
   "source": [
    "# What is the mean of MathScore, ReadingCase, WritingScore"
   ]
  },
  {
   "cell_type": "code",
   "execution_count": 11,
   "id": "26364fe1",
   "metadata": {},
   "outputs": [],
   "source": [
    "# Select records with math scores between 21 and 60"
   ]
  },
  {
   "cell_type": "code",
   "execution_count": 12,
   "id": "651bc6f4",
   "metadata": {},
   "outputs": [],
   "source": [
    "# How many students practice sports regularly"
   ]
  },
  {
   "cell_type": "code",
   "execution_count": 13,
   "id": "847e926e",
   "metadata": {},
   "outputs": [],
   "source": [
    "# How many students are first child and never practice sports"
   ]
  },
  {
   "cell_type": "code",
   "execution_count": 14,
   "id": "15fdafb3",
   "metadata": {},
   "outputs": [],
   "source": [
    "# How many students scored 100 in reading"
   ]
  },
  {
   "cell_type": "code",
   "execution_count": 15,
   "id": "d471cf71",
   "metadata": {},
   "outputs": [],
   "source": [
    "# How many students from ethic group d completed thier test"
   ]
  },
  {
   "cell_type": "code",
   "execution_count": 16,
   "id": "3de1c18a",
   "metadata": {},
   "outputs": [],
   "source": [
    "# What is the percentage of students from ethic group a"
   ]
  },
  {
   "cell_type": "code",
   "execution_count": 17,
   "id": "c182094a",
   "metadata": {},
   "outputs": [],
   "source": [
    "# Percentage of students from ethinc group c"
   ]
  },
  {
   "cell_type": "code",
   "execution_count": 18,
   "id": "09ca9513",
   "metadata": {},
   "outputs": [],
   "source": [
    "# Split the WklyStudyHours column to two columns seperating the date and time"
   ]
  },
  {
   "cell_type": "code",
   "execution_count": null,
   "id": "10182b1b",
   "metadata": {},
   "outputs": [],
   "source": []
  }
 ],
 "metadata": {
  "kernelspec": {
   "display_name": "Python 3 (ipykernel)",
   "language": "python",
   "name": "python3"
  },
  "language_info": {
   "codemirror_mode": {
    "name": "ipython",
    "version": 3
   },
   "file_extension": ".py",
   "mimetype": "text/x-python",
   "name": "python",
   "nbconvert_exporter": "python",
   "pygments_lexer": "ipython3",
   "version": "3.12.7"
  }
 },
 "nbformat": 4,
 "nbformat_minor": 5
}
